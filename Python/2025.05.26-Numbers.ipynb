{
 "cells": [
  {
   "cell_type": "code",
   "execution_count": 1,
   "id": "2f58b115-bf77-4c5b-8701-ec8324d2abdc",
   "metadata": {},
   "outputs": [
    {
     "data": {
      "text/plain": [
       "3"
      ]
     },
     "execution_count": 1,
     "metadata": {},
     "output_type": "execute_result"
    }
   ],
   "source": [
    "2+1"
   ]
  },
  {
   "cell_type": "code",
   "execution_count": 2,
   "id": "7270c0a9-d04f-4f42-9c6e-96ef16eac958",
   "metadata": {},
   "outputs": [
    {
     "data": {
      "text/plain": [
       "1"
      ]
     },
     "execution_count": 2,
     "metadata": {},
     "output_type": "execute_result"
    }
   ],
   "source": [
    "2-1"
   ]
  },
  {
   "cell_type": "code",
   "execution_count": 3,
   "id": "a130da84-071a-43ba-ab36-9eee14386621",
   "metadata": {},
   "outputs": [
    {
     "data": {
      "text/plain": [
       "4"
      ]
     },
     "execution_count": 3,
     "metadata": {},
     "output_type": "execute_result"
    }
   ],
   "source": [
    "2*2"
   ]
  },
  {
   "cell_type": "code",
   "execution_count": 4,
   "id": "fb951309-6606-406d-b3ad-503bda243875",
   "metadata": {},
   "outputs": [
    {
     "data": {
      "text/plain": [
       "1.5"
      ]
     },
     "execution_count": 4,
     "metadata": {},
     "output_type": "execute_result"
    }
   ],
   "source": [
    "3/2"
   ]
  },
  {
   "cell_type": "markdown",
   "id": "56a905c8-4f48-4de6-b4ee-112f0e2938fd",
   "metadata": {},
   "source": [
    "Modulo or \"Mod\" Operator"
   ]
  },
  {
   "cell_type": "code",
   "execution_count": 6,
   "id": "388ecdd6-1d79-4522-a269-00e257918151",
   "metadata": {},
   "outputs": [
    {
     "data": {
      "text/plain": [
       "1.75"
      ]
     },
     "execution_count": 6,
     "metadata": {},
     "output_type": "execute_result"
    }
   ],
   "source": [
    "7 / 4"
   ]
  },
  {
   "cell_type": "code",
   "execution_count": 7,
   "id": "c00f974b-e008-4d30-8622-43c32ad9001c",
   "metadata": {},
   "outputs": [
    {
     "data": {
      "text/plain": [
       "3"
      ]
     },
     "execution_count": 7,
     "metadata": {},
     "output_type": "execute_result"
    }
   ],
   "source": [
    "7 % 4 "
   ]
  },
  {
   "cell_type": "code",
   "execution_count": 8,
   "id": "6c00a4d5-31c9-4beb-9386-9b32ebc5d099",
   "metadata": {},
   "outputs": [
    {
     "data": {
      "text/plain": [
       "0"
      ]
     },
     "execution_count": 8,
     "metadata": {},
     "output_type": "execute_result"
    }
   ],
   "source": [
    "50 % 5"
   ]
  },
  {
   "cell_type": "code",
   "execution_count": 9,
   "id": "0c17e194-9bcb-43a7-9d8c-3e628ed692a6",
   "metadata": {},
   "outputs": [
    {
     "data": {
      "text/plain": [
       "1"
      ]
     },
     "execution_count": 9,
     "metadata": {},
     "output_type": "execute_result"
    }
   ],
   "source": [
    "23 % 2"
   ]
  },
  {
   "cell_type": "code",
   "execution_count": 10,
   "id": "68099e09-d826-408e-a4c5-a3cf28e6f179",
   "metadata": {},
   "outputs": [
    {
     "data": {
      "text/plain": [
       "0"
      ]
     },
     "execution_count": 10,
     "metadata": {},
     "output_type": "execute_result"
    }
   ],
   "source": [
    "20 % 2"
   ]
  },
  {
   "cell_type": "code",
   "execution_count": 11,
   "id": "b4cb9838-a7f6-4f0b-a834-9af9c722f0b0",
   "metadata": {},
   "outputs": [
    {
     "data": {
      "text/plain": [
       "8"
      ]
     },
     "execution_count": 11,
     "metadata": {},
     "output_type": "execute_result"
    }
   ],
   "source": [
    "2 ** 3"
   ]
  },
  {
   "cell_type": "code",
   "execution_count": 12,
   "id": "c8cd52e0-f020-40fa-8b13-b2f4c5235439",
   "metadata": {},
   "outputs": [
    {
     "data": {
      "text/plain": [
       "105"
      ]
     },
     "execution_count": 12,
     "metadata": {},
     "output_type": "execute_result"
    }
   ],
   "source": [
    "2 + 10 * 10 + 3"
   ]
  },
  {
   "cell_type": "code",
   "execution_count": 13,
   "id": "5df9d353-381e-47ba-aca0-be2361444fcc",
   "metadata": {},
   "outputs": [
    {
     "data": {
      "text/plain": [
       "156"
      ]
     },
     "execution_count": 13,
     "metadata": {},
     "output_type": "execute_result"
    }
   ],
   "source": [
    "(2+10) * (10+3)"
   ]
  },
  {
   "cell_type": "markdown",
   "id": "2eb7b09a-ecef-4479-8238-4774ae5ea403",
   "metadata": {},
   "source": [
    "Write an expression that equals 100"
   ]
  },
  {
   "cell_type": "code",
   "execution_count": 14,
   "id": "23932854-05a2-4adf-9d8e-a246203ecf18",
   "metadata": {},
   "outputs": [
    {
     "data": {
      "text/plain": [
       "100"
      ]
     },
     "execution_count": 14,
     "metadata": {},
     "output_type": "execute_result"
    }
   ],
   "source": [
    "80 + 20"
   ]
  },
  {
   "cell_type": "markdown",
   "id": "0d595cd2-e56e-4c45-9fca-cece4a4978e7",
   "metadata": {},
   "source": [
    "Which one of these is a floating point number? 3.2, 4, 500, 27 0000, 6? The answer is 3.2"
   ]
  },
  {
   "cell_type": "markdown",
   "id": "b2579374-55ef-41ed-8044-9f23a072b7d8",
   "metadata": {},
   "source": [
    "Which of these will output the result 36?"
   ]
  },
  {
   "cell_type": "code",
   "execution_count": 15,
   "id": "c9fa2ad8-378d-492e-aa57-9cf057686a8d",
   "metadata": {},
   "outputs": [
    {
     "ename": "SyntaxError",
     "evalue": "invalid syntax (954486747.py, line 1)",
     "output_type": "error",
     "traceback": [
      "\u001b[1;36m  Cell \u001b[1;32mIn[15], line 1\u001b[1;36m\u001b[0m\n\u001b[1;33m    30 +* 6\u001b[0m\n\u001b[1;37m        ^\u001b[0m\n\u001b[1;31mSyntaxError\u001b[0m\u001b[1;31m:\u001b[0m invalid syntax\n"
     ]
    }
   ],
   "source": [
    "30 +* 6"
   ]
  },
  {
   "cell_type": "code",
   "execution_count": 16,
   "id": "f2efbccc-d6d3-4127-af17-a63d3b2afe35",
   "metadata": {},
   "outputs": [
    {
     "data": {
      "text/plain": [
       "0"
      ]
     },
     "execution_count": 16,
     "metadata": {},
     "output_type": "execute_result"
    }
   ],
   "source": [
    "6 ^ 6"
   ]
  },
  {
   "cell_type": "code",
   "execution_count": 17,
   "id": "42e86eb3-4b6c-4176-a2fb-6b650e762d61",
   "metadata": {},
   "outputs": [
    {
     "data": {
      "text/plain": [
       "46656"
      ]
     },
     "execution_count": 17,
     "metadata": {},
     "output_type": "execute_result"
    }
   ],
   "source": [
    "6 ** 6"
   ]
  },
  {
   "cell_type": "code",
   "execution_count": 18,
   "id": "12c8fa70-1d8e-48cd-bc8b-a622cd5cc2fe",
   "metadata": {},
   "outputs": [
    {
     "data": {
      "text/plain": [
       "36"
      ]
     },
     "execution_count": 18,
     "metadata": {},
     "output_type": "execute_result"
    }
   ],
   "source": [
    "6 * 6"
   ]
  },
  {
   "cell_type": "code",
   "execution_count": 19,
   "id": "61b1ed6e-0b2c-4146-a82b-9680c0a21649",
   "metadata": {},
   "outputs": [
    {
     "data": {
      "text/plain": [
       "30"
      ]
     },
     "execution_count": 19,
     "metadata": {},
     "output_type": "execute_result"
    }
   ],
   "source": [
    "6 + 6 + 6 + 6 + 6"
   ]
  },
  {
   "cell_type": "markdown",
   "id": "c41735d1-bf5b-4db2-9303-1c7aeb23b834",
   "metadata": {},
   "source": [
    "The answer is 6 * 6."
   ]
  },
  {
   "cell_type": "markdown",
   "id": "f147e3ff-c7e0-4a86-b1b2-f56145e90fd4",
   "metadata": {},
   "source": [
    "In Python 3, what is the output of 1/2 ? "
   ]
  },
  {
   "cell_type": "code",
   "execution_count": 20,
   "id": "2f7283d7-61b2-4090-9bee-1b567b3dc8cd",
   "metadata": {},
   "outputs": [
    {
     "data": {
      "text/plain": [
       "0.5"
      ]
     },
     "execution_count": 20,
     "metadata": {},
     "output_type": "execute_result"
    }
   ],
   "source": [
    "1 / 2"
   ]
  },
  {
   "cell_type": "markdown",
   "id": "2d658f39-9997-468e-9350-cfffe0184c5f",
   "metadata": {},
   "source": [
    "The answer is 0.5."
   ]
  },
  {
   "cell_type": "code",
   "execution_count": null,
   "id": "924b2610-7ec8-450b-b4ab-3596b6e73777",
   "metadata": {},
   "outputs": [],
   "source": []
  }
 ],
 "metadata": {
  "kernelspec": {
   "display_name": "Python [conda env:base] *",
   "language": "python",
   "name": "conda-base-py"
  },
  "language_info": {
   "codemirror_mode": {
    "name": "ipython",
    "version": 3
   },
   "file_extension": ".py",
   "mimetype": "text/x-python",
   "name": "python",
   "nbconvert_exporter": "python",
   "pygments_lexer": "ipython3",
   "version": "3.12.7"
  }
 },
 "nbformat": 4,
 "nbformat_minor": 5
}
